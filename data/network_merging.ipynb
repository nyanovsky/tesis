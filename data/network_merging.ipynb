{
 "cells": [
  {
   "cell_type": "code",
   "execution_count": 3,
   "metadata": {},
   "outputs": [],
   "source": [
    "import pandas as pd\n",
    "import numpy as np\n",
    "import networkx as nx\n",
    "import matplotlib.pyplot as plt"
   ]
  },
  {
   "cell_type": "code",
   "execution_count": 4,
   "metadata": {},
   "outputs": [],
   "source": [
    "dti_folder = \"/biodata/nyanovsky/datasets/dti/\""
   ]
  },
  {
   "cell_type": "code",
   "execution_count": 5,
   "metadata": {},
   "outputs": [],
   "source": [
    "ChCh_fname = input()\n",
    "GG_fname = input()\n",
    "dataset_version = input() # v1, v2, ... d"
   ]
  },
  {
   "cell_type": "code",
   "execution_count": 6,
   "metadata": {},
   "outputs": [
    {
     "name": "stdout",
     "output_type": "stream",
     "text": [
      "circ_tani_20k\n",
      "pfam_w_proy_net\n",
      "v2\n"
     ]
    }
   ],
   "source": [
    "print(ChCh_fname)\n",
    "print(GG_fname)\n",
    "print(dataset_version)"
   ]
  },
  {
   "cell_type": "code",
   "execution_count": 7,
   "metadata": {},
   "outputs": [],
   "source": [
    "ChG_df = pd.read_csv(dti_folder+\"ChG/ChG_df.csv\")\n",
    "ChCh_df = pd.read_csv(dti_folder+f\"ChCh/{ChCh_fname}.csv\")\n",
    "GG_df = pd.read_csv(dti_folder+f\"/GG/{GG_fname}.csv\")"
   ]
  },
  {
   "cell_type": "code",
   "execution_count": 8,
   "metadata": {},
   "outputs": [
    {
     "data": {
      "text/html": [
       "<div>\n",
       "<style scoped>\n",
       "    .dataframe tbody tr th:only-of-type {\n",
       "        vertical-align: middle;\n",
       "    }\n",
       "\n",
       "    .dataframe tbody tr th {\n",
       "        vertical-align: top;\n",
       "    }\n",
       "\n",
       "    .dataframe thead th {\n",
       "        text-align: right;\n",
       "    }\n",
       "</style>\n",
       "<table border=\"1\" class=\"dataframe\">\n",
       "  <thead>\n",
       "    <tr style=\"text-align: right;\">\n",
       "      <th></th>\n",
       "      <th>DrugID (PubChem CID)</th>\n",
       "      <th>GeneID (NCBI)</th>\n",
       "    </tr>\n",
       "  </thead>\n",
       "  <tbody>\n",
       "    <tr>\n",
       "      <th>0</th>\n",
       "      <td>155831</td>\n",
       "      <td>5243</td>\n",
       "    </tr>\n",
       "    <tr>\n",
       "      <th>1</th>\n",
       "      <td>24762158</td>\n",
       "      <td>213</td>\n",
       "    </tr>\n",
       "    <tr>\n",
       "      <th>2</th>\n",
       "      <td>24762158</td>\n",
       "      <td>506</td>\n",
       "    </tr>\n",
       "    <tr>\n",
       "      <th>3</th>\n",
       "      <td>24762158</td>\n",
       "      <td>563</td>\n",
       "    </tr>\n",
       "    <tr>\n",
       "      <th>4</th>\n",
       "      <td>24762158</td>\n",
       "      <td>13884</td>\n",
       "    </tr>\n",
       "  </tbody>\n",
       "</table>\n",
       "</div>"
      ],
      "text/plain": [
       "   DrugID (PubChem CID)  GeneID (NCBI)\n",
       "0                155831           5243\n",
       "1              24762158            213\n",
       "2              24762158            506\n",
       "3              24762158            563\n",
       "4              24762158          13884"
      ]
     },
     "execution_count": 8,
     "metadata": {},
     "output_type": "execute_result"
    }
   ],
   "source": [
    "ChG_df.head()"
   ]
  },
  {
   "cell_type": "code",
   "execution_count": 9,
   "metadata": {},
   "outputs": [
    {
     "data": {
      "text/html": [
       "<div>\n",
       "<style scoped>\n",
       "    .dataframe tbody tr th:only-of-type {\n",
       "        vertical-align: middle;\n",
       "    }\n",
       "\n",
       "    .dataframe tbody tr th {\n",
       "        vertical-align: top;\n",
       "    }\n",
       "\n",
       "    .dataframe thead th {\n",
       "        text-align: right;\n",
       "    }\n",
       "</style>\n",
       "<table border=\"1\" class=\"dataframe\">\n",
       "  <thead>\n",
       "    <tr style=\"text-align: right;\">\n",
       "      <th></th>\n",
       "      <th>src</th>\n",
       "      <th>trgt</th>\n",
       "    </tr>\n",
       "  </thead>\n",
       "  <tbody>\n",
       "    <tr>\n",
       "      <th>0</th>\n",
       "      <td>5353272</td>\n",
       "      <td>11976122</td>\n",
       "    </tr>\n",
       "    <tr>\n",
       "      <th>1</th>\n",
       "      <td>5313476</td>\n",
       "      <td>448653</td>\n",
       "    </tr>\n",
       "    <tr>\n",
       "      <th>2</th>\n",
       "      <td>6436079</td>\n",
       "      <td>6436082</td>\n",
       "    </tr>\n",
       "    <tr>\n",
       "      <th>3</th>\n",
       "      <td>11430588</td>\n",
       "      <td>5287617</td>\n",
       "    </tr>\n",
       "    <tr>\n",
       "      <th>4</th>\n",
       "      <td>5311211</td>\n",
       "      <td>23654841</td>\n",
       "    </tr>\n",
       "  </tbody>\n",
       "</table>\n",
       "</div>"
      ],
      "text/plain": [
       "        src      trgt\n",
       "0   5353272  11976122\n",
       "1   5313476    448653\n",
       "2   6436079   6436082\n",
       "3  11430588   5287617\n",
       "4   5311211  23654841"
      ]
     },
     "execution_count": 9,
     "metadata": {},
     "output_type": "execute_result"
    }
   ],
   "source": [
    "ChCh_df.head()"
   ]
  },
  {
   "cell_type": "code",
   "execution_count": 10,
   "metadata": {},
   "outputs": [],
   "source": [
    "if \"Similarity\" in ChCh_df.columns:\n",
    "    ChCh_df.drop(columns=\"Similarity\", inplace=True)"
   ]
  },
  {
   "cell_type": "code",
   "execution_count": 11,
   "metadata": {},
   "outputs": [
    {
     "data": {
      "text/html": [
       "<div>\n",
       "<style scoped>\n",
       "    .dataframe tbody tr th:only-of-type {\n",
       "        vertical-align: middle;\n",
       "    }\n",
       "\n",
       "    .dataframe tbody tr th {\n",
       "        vertical-align: top;\n",
       "    }\n",
       "\n",
       "    .dataframe thead th {\n",
       "        text-align: right;\n",
       "    }\n",
       "</style>\n",
       "<table border=\"1\" class=\"dataframe\">\n",
       "  <thead>\n",
       "    <tr style=\"text-align: right;\">\n",
       "      <th></th>\n",
       "      <th>src</th>\n",
       "      <th>trgt</th>\n",
       "    </tr>\n",
       "  </thead>\n",
       "  <tbody>\n",
       "    <tr>\n",
       "      <th>0</th>\n",
       "      <td>5243</td>\n",
       "      <td>4363</td>\n",
       "    </tr>\n",
       "    <tr>\n",
       "      <th>1</th>\n",
       "      <td>5243</td>\n",
       "      <td>10257</td>\n",
       "    </tr>\n",
       "    <tr>\n",
       "      <th>2</th>\n",
       "      <td>5243</td>\n",
       "      <td>1080</td>\n",
       "    </tr>\n",
       "    <tr>\n",
       "      <th>3</th>\n",
       "      <td>5243</td>\n",
       "      <td>64240</td>\n",
       "    </tr>\n",
       "    <tr>\n",
       "      <th>4</th>\n",
       "      <td>5243</td>\n",
       "      <td>64241</td>\n",
       "    </tr>\n",
       "  </tbody>\n",
       "</table>\n",
       "</div>"
      ],
      "text/plain": [
       "    src   trgt\n",
       "0  5243   4363\n",
       "1  5243  10257\n",
       "2  5243   1080\n",
       "3  5243  64240\n",
       "4  5243  64241"
      ]
     },
     "execution_count": 11,
     "metadata": {},
     "output_type": "execute_result"
    }
   ],
   "source": [
    "GG_df.head()"
   ]
  },
  {
   "cell_type": "code",
   "execution_count": 12,
   "metadata": {},
   "outputs": [],
   "source": [
    "ChG_df = [\"C\",\"G\"]+ChG_df.astype(str)\n",
    "ChCh_df = [\"C\",\"C\"]+ChCh_df.astype(str)\n",
    "GG_df = [\"G\",\"G\"]+GG_df.astype(str)\n",
    "\n",
    "ChCh_df[\"sorted_edge\"] = ChCh_df.apply(lambda row: sorted(row), axis=1)\n",
    "GG_df[\"sorted_edge\"] = GG_df.apply(lambda row: sorted(row), axis=1)\n",
    "\n",
    "\n",
    "ChG_df.drop_duplicates(inplace=True)\n",
    "ChCh_df = ChCh_df.drop_duplicates(subset=\"sorted_edge\").drop(columns=\"sorted_edge\")\n",
    "GG_df = GG_df.drop_duplicates(subset=\"sorted_edge\").drop(columns=\"sorted_edge\")"
   ]
  },
  {
   "cell_type": "code",
   "execution_count": 9,
   "metadata": {},
   "outputs": [],
   "source": [
    "ChG_df.to_csv(dti_folder+\"ChG/ChG_final_df.csv\")\n",
    "ChCh_df.to_csv(dti_folder+\"ChCh/ChCh_final_df.csv\")\n",
    "GG_df.to_csv(dti_folder+\"GG/GG_final_df.csv\")"
   ]
  },
  {
   "cell_type": "code",
   "execution_count": 13,
   "metadata": {},
   "outputs": [],
   "source": [
    "ChG_df.rename(columns={\"DrugID (PubChem CID)\":\"src_id\", \"GeneID (NCBI)\": \"trgt_id\" }, inplace=True)\n",
    "\n",
    "ChCh_df.columns = [\"src_id\", \"trgt_id\"]\n",
    "\n",
    "GG_df.columns= [\"src_id\", \"trgt_id\"]"
   ]
  },
  {
   "cell_type": "code",
   "execution_count": 14,
   "metadata": {},
   "outputs": [],
   "source": [
    "ChG_df[\"edge_type\"] = \"chg\"\n",
    "ChG_df[\"src_node_type\"] = \"chem\"\n",
    "ChG_df[\"trgt_node_type\"] = \"gene\""
   ]
  },
  {
   "cell_type": "code",
   "execution_count": 15,
   "metadata": {},
   "outputs": [],
   "source": [
    "ChCh_df[\"edge_type\"] = \"chch\"\n",
    "ChCh_df[\"src_node_type\"] = \"chem\"\n",
    "ChCh_df[\"trgt_node_type\"] = \"chem\""
   ]
  },
  {
   "cell_type": "code",
   "execution_count": 16,
   "metadata": {},
   "outputs": [],
   "source": [
    "GG_df[\"edge_type\"] = \"gg\"\n",
    "GG_df[\"src_node_type\"] = \"gene\"\n",
    "GG_df[\"trgt_node_type\"] = \"gene\""
   ]
  },
  {
   "cell_type": "code",
   "execution_count": 17,
   "metadata": {},
   "outputs": [],
   "source": [
    "edge_df = pd.concat([ChG_df, ChCh_df, GG_df])"
   ]
  },
  {
   "cell_type": "code",
   "execution_count": 18,
   "metadata": {},
   "outputs": [
    {
     "data": {
      "text/html": [
       "<div>\n",
       "<style scoped>\n",
       "    .dataframe tbody tr th:only-of-type {\n",
       "        vertical-align: middle;\n",
       "    }\n",
       "\n",
       "    .dataframe tbody tr th {\n",
       "        vertical-align: top;\n",
       "    }\n",
       "\n",
       "    .dataframe thead th {\n",
       "        text-align: right;\n",
       "    }\n",
       "</style>\n",
       "<table border=\"1\" class=\"dataframe\">\n",
       "  <thead>\n",
       "    <tr style=\"text-align: right;\">\n",
       "      <th></th>\n",
       "      <th>src_id</th>\n",
       "      <th>trgt_id</th>\n",
       "      <th>edge_type</th>\n",
       "      <th>src_node_type</th>\n",
       "      <th>trgt_node_type</th>\n",
       "    </tr>\n",
       "  </thead>\n",
       "  <tbody>\n",
       "    <tr>\n",
       "      <th>0</th>\n",
       "      <td>C155831</td>\n",
       "      <td>G5243</td>\n",
       "      <td>chg</td>\n",
       "      <td>chem</td>\n",
       "      <td>gene</td>\n",
       "    </tr>\n",
       "    <tr>\n",
       "      <th>1</th>\n",
       "      <td>C24762158</td>\n",
       "      <td>G213</td>\n",
       "      <td>chg</td>\n",
       "      <td>chem</td>\n",
       "      <td>gene</td>\n",
       "    </tr>\n",
       "    <tr>\n",
       "      <th>2</th>\n",
       "      <td>C24762158</td>\n",
       "      <td>G506</td>\n",
       "      <td>chg</td>\n",
       "      <td>chem</td>\n",
       "      <td>gene</td>\n",
       "    </tr>\n",
       "    <tr>\n",
       "      <th>3</th>\n",
       "      <td>C24762158</td>\n",
       "      <td>G563</td>\n",
       "      <td>chg</td>\n",
       "      <td>chem</td>\n",
       "      <td>gene</td>\n",
       "    </tr>\n",
       "    <tr>\n",
       "      <th>4</th>\n",
       "      <td>C24762158</td>\n",
       "      <td>G13884</td>\n",
       "      <td>chg</td>\n",
       "      <td>chem</td>\n",
       "      <td>gene</td>\n",
       "    </tr>\n",
       "    <tr>\n",
       "      <th>...</th>\n",
       "      <td>...</td>\n",
       "      <td>...</td>\n",
       "      <td>...</td>\n",
       "      <td>...</td>\n",
       "      <td>...</td>\n",
       "    </tr>\n",
       "    <tr>\n",
       "      <th>21825</th>\n",
       "      <td>G10239</td>\n",
       "      <td>G1175</td>\n",
       "      <td>gg</td>\n",
       "      <td>gene</td>\n",
       "      <td>gene</td>\n",
       "    </tr>\n",
       "    <tr>\n",
       "      <th>21826</th>\n",
       "      <td>G11154</td>\n",
       "      <td>G1175</td>\n",
       "      <td>gg</td>\n",
       "      <td>gene</td>\n",
       "      <td>gene</td>\n",
       "    </tr>\n",
       "    <tr>\n",
       "      <th>21827</th>\n",
       "      <td>G128240</td>\n",
       "      <td>G374887</td>\n",
       "      <td>gg</td>\n",
       "      <td>gene</td>\n",
       "      <td>gene</td>\n",
       "    </tr>\n",
       "    <tr>\n",
       "      <th>21828</th>\n",
       "      <td>G128240</td>\n",
       "      <td>G80153</td>\n",
       "      <td>gg</td>\n",
       "      <td>gene</td>\n",
       "      <td>gene</td>\n",
       "    </tr>\n",
       "    <tr>\n",
       "      <th>21829</th>\n",
       "      <td>G374887</td>\n",
       "      <td>G80153</td>\n",
       "      <td>gg</td>\n",
       "      <td>gene</td>\n",
       "      <td>gene</td>\n",
       "    </tr>\n",
       "  </tbody>\n",
       "</table>\n",
       "<p>80221 rows × 5 columns</p>\n",
       "</div>"
      ],
      "text/plain": [
       "          src_id  trgt_id edge_type src_node_type trgt_node_type\n",
       "0        C155831    G5243       chg          chem           gene\n",
       "1      C24762158     G213       chg          chem           gene\n",
       "2      C24762158     G506       chg          chem           gene\n",
       "3      C24762158     G563       chg          chem           gene\n",
       "4      C24762158   G13884       chg          chem           gene\n",
       "...          ...      ...       ...           ...            ...\n",
       "21825     G10239    G1175        gg          gene           gene\n",
       "21826     G11154    G1175        gg          gene           gene\n",
       "21827    G128240  G374887        gg          gene           gene\n",
       "21828    G128240   G80153        gg          gene           gene\n",
       "21829    G374887   G80153        gg          gene           gene\n",
       "\n",
       "[80221 rows x 5 columns]"
      ]
     },
     "execution_count": 18,
     "metadata": {},
     "output_type": "execute_result"
    }
   ],
   "source": [
    "edge_df"
   ]
  },
  {
   "cell_type": "code",
   "execution_count": 19,
   "metadata": {},
   "outputs": [],
   "source": [
    "import networkx as nx"
   ]
  },
  {
   "cell_type": "code",
   "execution_count": 20,
   "metadata": {},
   "outputs": [],
   "source": [
    "G = nx.from_pandas_edgelist(edge_df, source=\"src_id\", target=\"trgt_id\",edge_attr=\"edge_type\")"
   ]
  },
  {
   "cell_type": "code",
   "execution_count": 21,
   "metadata": {},
   "outputs": [],
   "source": [
    "def get_edgetype_subgraph(G: nx.Graph, edge_type: str) -> nx.Graph:\n",
    "    rel_edges = [(u,v) for (u,v,r_dict) in G.edges.data() if r_dict[\"edge_type\"]==edge_type]\n",
    "    rel_subgraph = G.edge_subgraph(rel_edges).copy()\n",
    "    return rel_subgraph"
   ]
  },
  {
   "cell_type": "code",
   "execution_count": 22,
   "metadata": {},
   "outputs": [],
   "source": [
    "ChG_subgraph = get_edgetype_subgraph(G, \"chg\")\n",
    "ChCh_subgraph = get_edgetype_subgraph(G, \"chch\")\n",
    "GG_subgraph = get_edgetype_subgraph(G, \"gg\")"
   ]
  },
  {
   "cell_type": "code",
   "execution_count": 23,
   "metadata": {},
   "outputs": [],
   "source": [
    "def node_deg_info(node):\n",
    "    ChG_deg, ChCh_deg, GG_deg = 0,0,0\n",
    "    if node in ChG_subgraph.nodes():\n",
    "        ChG_deg = ChG_subgraph.degree(node)\n",
    "    if node.startswith(\"C\") and node in ChCh_subgraph.nodes():\n",
    "        ChCh_deg = ChCh_subgraph.degree(node)\n",
    "    elif node in GG_subgraph.nodes():\n",
    "        GG_deg = GG_subgraph.degree(node)\n",
    "    \n",
    "    return pd.Series([ChG_deg, ChCh_deg, GG_deg])"
   ]
  },
  {
   "cell_type": "code",
   "execution_count": 24,
   "metadata": {},
   "outputs": [],
   "source": [
    "node_df = pd.DataFrame()\n",
    "node_df[\"node_id\"] = list(G.nodes())\n",
    "node_df[[\"ChG_deg\",\"ChCh_deg\", \"GG_deg\"]] = node_df[\"node_id\"].apply(node_deg_info)\n",
    "node_df[\"total_deg\"] = node_df[[\"ChG_deg\",\"ChCh_deg\", \"GG_deg\"]].sum(axis=1)\n",
    "node_df[\"node_type\"] = node_df[\"node_id\"].apply(lambda x: \"chem\" if x.startswith(\"C\") else \"gene\")"
   ]
  },
  {
   "cell_type": "code",
   "execution_count": 25,
   "metadata": {},
   "outputs": [],
   "source": [
    "# add src node index and trgt node index to edge_df as columns\n",
    "node_idxs = {node_id:index for index, node_id in enumerate(node_df[\"node_id\"])}\n",
    "edge_df[\"src_node_index\"] = edge_df[\"src_id\"].apply(lambda id: node_idxs[id])\n",
    "edge_df[\"trgt_node_index\"] = edge_df[\"trgt_id\"].apply(lambda id: node_idxs[id])"
   ]
  },
  {
   "cell_type": "code",
   "execution_count": 26,
   "metadata": {},
   "outputs": [
    {
     "data": {
      "text/html": [
       "<div>\n",
       "<style scoped>\n",
       "    .dataframe tbody tr th:only-of-type {\n",
       "        vertical-align: middle;\n",
       "    }\n",
       "\n",
       "    .dataframe tbody tr th {\n",
       "        vertical-align: top;\n",
       "    }\n",
       "\n",
       "    .dataframe thead th {\n",
       "        text-align: right;\n",
       "    }\n",
       "</style>\n",
       "<table border=\"1\" class=\"dataframe\">\n",
       "  <thead>\n",
       "    <tr style=\"text-align: right;\">\n",
       "      <th></th>\n",
       "      <th>src_id</th>\n",
       "      <th>trgt_id</th>\n",
       "      <th>edge_type</th>\n",
       "      <th>src_node_type</th>\n",
       "      <th>trgt_node_type</th>\n",
       "      <th>src_node_index</th>\n",
       "      <th>trgt_node_index</th>\n",
       "    </tr>\n",
       "  </thead>\n",
       "  <tbody>\n",
       "    <tr>\n",
       "      <th>0</th>\n",
       "      <td>C155831</td>\n",
       "      <td>G5243</td>\n",
       "      <td>chg</td>\n",
       "      <td>chem</td>\n",
       "      <td>gene</td>\n",
       "      <td>0</td>\n",
       "      <td>1</td>\n",
       "    </tr>\n",
       "    <tr>\n",
       "      <th>1</th>\n",
       "      <td>C24762158</td>\n",
       "      <td>G213</td>\n",
       "      <td>chg</td>\n",
       "      <td>chem</td>\n",
       "      <td>gene</td>\n",
       "      <td>2</td>\n",
       "      <td>3</td>\n",
       "    </tr>\n",
       "    <tr>\n",
       "      <th>2</th>\n",
       "      <td>C24762158</td>\n",
       "      <td>G506</td>\n",
       "      <td>chg</td>\n",
       "      <td>chem</td>\n",
       "      <td>gene</td>\n",
       "      <td>2</td>\n",
       "      <td>4</td>\n",
       "    </tr>\n",
       "    <tr>\n",
       "      <th>3</th>\n",
       "      <td>C24762158</td>\n",
       "      <td>G563</td>\n",
       "      <td>chg</td>\n",
       "      <td>chem</td>\n",
       "      <td>gene</td>\n",
       "      <td>2</td>\n",
       "      <td>5</td>\n",
       "    </tr>\n",
       "    <tr>\n",
       "      <th>4</th>\n",
       "      <td>C24762158</td>\n",
       "      <td>G13884</td>\n",
       "      <td>chg</td>\n",
       "      <td>chem</td>\n",
       "      <td>gene</td>\n",
       "      <td>2</td>\n",
       "      <td>6</td>\n",
       "    </tr>\n",
       "    <tr>\n",
       "      <th>...</th>\n",
       "      <td>...</td>\n",
       "      <td>...</td>\n",
       "      <td>...</td>\n",
       "      <td>...</td>\n",
       "      <td>...</td>\n",
       "      <td>...</td>\n",
       "      <td>...</td>\n",
       "    </tr>\n",
       "    <tr>\n",
       "      <th>21825</th>\n",
       "      <td>G10239</td>\n",
       "      <td>G1175</td>\n",
       "      <td>gg</td>\n",
       "      <td>gene</td>\n",
       "      <td>gene</td>\n",
       "      <td>11643</td>\n",
       "      <td>11645</td>\n",
       "    </tr>\n",
       "    <tr>\n",
       "      <th>21826</th>\n",
       "      <td>G11154</td>\n",
       "      <td>G1175</td>\n",
       "      <td>gg</td>\n",
       "      <td>gene</td>\n",
       "      <td>gene</td>\n",
       "      <td>11644</td>\n",
       "      <td>11645</td>\n",
       "    </tr>\n",
       "    <tr>\n",
       "      <th>21827</th>\n",
       "      <td>G128240</td>\n",
       "      <td>G374887</td>\n",
       "      <td>gg</td>\n",
       "      <td>gene</td>\n",
       "      <td>gene</td>\n",
       "      <td>11651</td>\n",
       "      <td>11652</td>\n",
       "    </tr>\n",
       "    <tr>\n",
       "      <th>21828</th>\n",
       "      <td>G128240</td>\n",
       "      <td>G80153</td>\n",
       "      <td>gg</td>\n",
       "      <td>gene</td>\n",
       "      <td>gene</td>\n",
       "      <td>11651</td>\n",
       "      <td>11653</td>\n",
       "    </tr>\n",
       "    <tr>\n",
       "      <th>21829</th>\n",
       "      <td>G374887</td>\n",
       "      <td>G80153</td>\n",
       "      <td>gg</td>\n",
       "      <td>gene</td>\n",
       "      <td>gene</td>\n",
       "      <td>11652</td>\n",
       "      <td>11653</td>\n",
       "    </tr>\n",
       "  </tbody>\n",
       "</table>\n",
       "<p>80221 rows × 7 columns</p>\n",
       "</div>"
      ],
      "text/plain": [
       "          src_id  trgt_id edge_type src_node_type trgt_node_type  \\\n",
       "0        C155831    G5243       chg          chem           gene   \n",
       "1      C24762158     G213       chg          chem           gene   \n",
       "2      C24762158     G506       chg          chem           gene   \n",
       "3      C24762158     G563       chg          chem           gene   \n",
       "4      C24762158   G13884       chg          chem           gene   \n",
       "...          ...      ...       ...           ...            ...   \n",
       "21825     G10239    G1175        gg          gene           gene   \n",
       "21826     G11154    G1175        gg          gene           gene   \n",
       "21827    G128240  G374887        gg          gene           gene   \n",
       "21828    G128240   G80153        gg          gene           gene   \n",
       "21829    G374887   G80153        gg          gene           gene   \n",
       "\n",
       "       src_node_index  trgt_node_index  \n",
       "0                   0                1  \n",
       "1                   2                3  \n",
       "2                   2                4  \n",
       "3                   2                5  \n",
       "4                   2                6  \n",
       "...               ...              ...  \n",
       "21825           11643            11645  \n",
       "21826           11644            11645  \n",
       "21827           11651            11652  \n",
       "21828           11651            11653  \n",
       "21829           11652            11653  \n",
       "\n",
       "[80221 rows x 7 columns]"
      ]
     },
     "execution_count": 26,
     "metadata": {},
     "output_type": "execute_result"
    }
   ],
   "source": [
    "edge_df"
   ]
  },
  {
   "cell_type": "code",
   "execution_count": 27,
   "metadata": {},
   "outputs": [],
   "source": [
    "from itertools import permutations\n",
    "def make_undirected(df,column_pairs):\n",
    "    new_combinations = [item for sublist in [list(permutations(column_pair,2)) for column_pair in column_pairs] for item in sublist]\n",
    "    reversed_columns = {old:new for (old,new) in new_combinations}\n",
    "    reversed_dataframe = df.rename(columns=reversed_columns)\n",
    "    df = pd.concat([df,reversed_dataframe])\n",
    "    return df"
   ]
  },
  {
   "cell_type": "code",
   "execution_count": 28,
   "metadata": {},
   "outputs": [],
   "source": [
    "edge_df = make_undirected(edge_df,[(\"src_id\", \"trgt_id\"), (\"src_node_type\",\"trgt_node_type\"),\n",
    "                                       (\"src_node_index\", \"trgt_node_index\")])"
   ]
  },
  {
   "cell_type": "code",
   "execution_count": 31,
   "metadata": {},
   "outputs": [],
   "source": [
    "edge_df.to_csv(dti_folder+f\"/processed/{dataset_version}/edge_df.csv\", index=False)\n",
    "node_df.to_csv(dti_folder+f\"/processed/{dataset_version}/node_df.csv\", index=False)"
   ]
  },
  {
   "cell_type": "code",
   "execution_count": 32,
   "metadata": {},
   "outputs": [],
   "source": [
    "import pickle"
   ]
  },
  {
   "cell_type": "code",
   "execution_count": 33,
   "metadata": {},
   "outputs": [],
   "source": [
    "pickle.dump(G, open(dti_folder+f'/processed/{dataset_version}/dti_graph.pickle', 'wb'))"
   ]
  }
 ],
 "metadata": {
  "kernelspec": {
   "display_name": "base",
   "language": "python",
   "name": "python3"
  },
  "language_info": {
   "codemirror_mode": {
    "name": "ipython",
    "version": 3
   },
   "file_extension": ".py",
   "mimetype": "text/x-python",
   "name": "python",
   "nbconvert_exporter": "python",
   "pygments_lexer": "ipython3",
   "version": "3.10.13"
  }
 },
 "nbformat": 4,
 "nbformat_minor": 2
}
