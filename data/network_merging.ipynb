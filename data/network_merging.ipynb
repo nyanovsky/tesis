{
 "cells": [
  {
   "cell_type": "code",
   "execution_count": 1,
   "metadata": {},
   "outputs": [],
   "source": [
    "import pandas as pd\n",
    "import numpy as np\n",
    "import networkx as nx\n",
    "import matplotlib.pyplot as plt"
   ]
  },
  {
   "cell_type": "code",
   "execution_count": 2,
   "metadata": {},
   "outputs": [],
   "source": [
    "dti_folder = \"/biodata/nyanovsky/datasets/dti/\""
   ]
  },
  {
   "cell_type": "code",
   "execution_count": 3,
   "metadata": {},
   "outputs": [],
   "source": [
    "ChG_df = pd.read_csv(dti_folder+\"ChG/ChG_df.csv\")\n",
    "ChCh_df = pd.read_csv(dti_folder+\"ChCh/tani_net_05.csv\")\n",
    "GG_df = pd.read_csv(dti_folder+\"/GG/pfam_proy_net.csv\")"
   ]
  },
  {
   "cell_type": "code",
   "execution_count": 4,
   "metadata": {},
   "outputs": [
    {
     "data": {
      "text/html": [
       "<div>\n",
       "<style scoped>\n",
       "    .dataframe tbody tr th:only-of-type {\n",
       "        vertical-align: middle;\n",
       "    }\n",
       "\n",
       "    .dataframe tbody tr th {\n",
       "        vertical-align: top;\n",
       "    }\n",
       "\n",
       "    .dataframe thead th {\n",
       "        text-align: right;\n",
       "    }\n",
       "</style>\n",
       "<table border=\"1\" class=\"dataframe\">\n",
       "  <thead>\n",
       "    <tr style=\"text-align: right;\">\n",
       "      <th></th>\n",
       "      <th>DrugID (PubChem CID)</th>\n",
       "      <th>GeneID (NCBI)</th>\n",
       "    </tr>\n",
       "  </thead>\n",
       "  <tbody>\n",
       "    <tr>\n",
       "      <th>0</th>\n",
       "      <td>155831</td>\n",
       "      <td>5243</td>\n",
       "    </tr>\n",
       "    <tr>\n",
       "      <th>1</th>\n",
       "      <td>24762158</td>\n",
       "      <td>213</td>\n",
       "    </tr>\n",
       "    <tr>\n",
       "      <th>2</th>\n",
       "      <td>24762158</td>\n",
       "      <td>506</td>\n",
       "    </tr>\n",
       "    <tr>\n",
       "      <th>3</th>\n",
       "      <td>24762158</td>\n",
       "      <td>563</td>\n",
       "    </tr>\n",
       "    <tr>\n",
       "      <th>4</th>\n",
       "      <td>24762158</td>\n",
       "      <td>13884</td>\n",
       "    </tr>\n",
       "  </tbody>\n",
       "</table>\n",
       "</div>"
      ],
      "text/plain": [
       "   DrugID (PubChem CID)  GeneID (NCBI)\n",
       "0                155831           5243\n",
       "1              24762158            213\n",
       "2              24762158            506\n",
       "3              24762158            563\n",
       "4              24762158          13884"
      ]
     },
     "execution_count": 4,
     "metadata": {},
     "output_type": "execute_result"
    }
   ],
   "source": [
    "ChG_df.head()"
   ]
  },
  {
   "cell_type": "code",
   "execution_count": 5,
   "metadata": {},
   "outputs": [
    {
     "data": {
      "text/html": [
       "<div>\n",
       "<style scoped>\n",
       "    .dataframe tbody tr th:only-of-type {\n",
       "        vertical-align: middle;\n",
       "    }\n",
       "\n",
       "    .dataframe tbody tr th {\n",
       "        vertical-align: top;\n",
       "    }\n",
       "\n",
       "    .dataframe thead th {\n",
       "        text-align: right;\n",
       "    }\n",
       "</style>\n",
       "<table border=\"1\" class=\"dataframe\">\n",
       "  <thead>\n",
       "    <tr style=\"text-align: right;\">\n",
       "      <th></th>\n",
       "      <th>CID1</th>\n",
       "      <th>CID2</th>\n",
       "      <th>Similarity</th>\n",
       "    </tr>\n",
       "  </thead>\n",
       "  <tbody>\n",
       "    <tr>\n",
       "      <th>0</th>\n",
       "      <td>155831</td>\n",
       "      <td>148124</td>\n",
       "      <td>0.844262</td>\n",
       "    </tr>\n",
       "    <tr>\n",
       "      <th>1</th>\n",
       "      <td>155831</td>\n",
       "      <td>36314</td>\n",
       "      <td>0.822581</td>\n",
       "    </tr>\n",
       "    <tr>\n",
       "      <th>2</th>\n",
       "      <td>155831</td>\n",
       "      <td>9854073</td>\n",
       "      <td>0.609929</td>\n",
       "    </tr>\n",
       "    <tr>\n",
       "      <th>3</th>\n",
       "      <td>155831</td>\n",
       "      <td>6918473</td>\n",
       "      <td>0.578616</td>\n",
       "    </tr>\n",
       "    <tr>\n",
       "      <th>4</th>\n",
       "      <td>54692492</td>\n",
       "      <td>54680692</td>\n",
       "      <td>0.550725</td>\n",
       "    </tr>\n",
       "  </tbody>\n",
       "</table>\n",
       "</div>"
      ],
      "text/plain": [
       "       CID1      CID2  Similarity\n",
       "0    155831    148124    0.844262\n",
       "1    155831     36314    0.822581\n",
       "2    155831   9854073    0.609929\n",
       "3    155831   6918473    0.578616\n",
       "4  54692492  54680692    0.550725"
      ]
     },
     "execution_count": 5,
     "metadata": {},
     "output_type": "execute_result"
    }
   ],
   "source": [
    "ChCh_df.head()"
   ]
  },
  {
   "cell_type": "code",
   "execution_count": 6,
   "metadata": {},
   "outputs": [],
   "source": [
    "ChCh_df.drop(columns=\"Similarity\", inplace=True)"
   ]
  },
  {
   "cell_type": "code",
   "execution_count": 7,
   "metadata": {},
   "outputs": [
    {
     "data": {
      "text/html": [
       "<div>\n",
       "<style scoped>\n",
       "    .dataframe tbody tr th:only-of-type {\n",
       "        vertical-align: middle;\n",
       "    }\n",
       "\n",
       "    .dataframe tbody tr th {\n",
       "        vertical-align: top;\n",
       "    }\n",
       "\n",
       "    .dataframe thead th {\n",
       "        text-align: right;\n",
       "    }\n",
       "</style>\n",
       "<table border=\"1\" class=\"dataframe\">\n",
       "  <thead>\n",
       "    <tr style=\"text-align: right;\">\n",
       "      <th></th>\n",
       "      <th>src</th>\n",
       "      <th>trgt</th>\n",
       "    </tr>\n",
       "  </thead>\n",
       "  <tbody>\n",
       "    <tr>\n",
       "      <th>0</th>\n",
       "      <td>1394</td>\n",
       "      <td>1395</td>\n",
       "    </tr>\n",
       "    <tr>\n",
       "      <th>1</th>\n",
       "      <td>1394</td>\n",
       "      <td>266977</td>\n",
       "    </tr>\n",
       "    <tr>\n",
       "      <th>2</th>\n",
       "      <td>1394</td>\n",
       "      <td>2692</td>\n",
       "    </tr>\n",
       "    <tr>\n",
       "      <th>3</th>\n",
       "      <td>1394</td>\n",
       "      <td>2696</td>\n",
       "    </tr>\n",
       "    <tr>\n",
       "      <th>4</th>\n",
       "      <td>1394</td>\n",
       "      <td>2740</td>\n",
       "    </tr>\n",
       "  </tbody>\n",
       "</table>\n",
       "</div>"
      ],
      "text/plain": [
       "    src    trgt\n",
       "0  1394    1395\n",
       "1  1394  266977\n",
       "2  1394    2692\n",
       "3  1394    2696\n",
       "4  1394    2740"
      ]
     },
     "execution_count": 7,
     "metadata": {},
     "output_type": "execute_result"
    }
   ],
   "source": [
    "GG_df.head()"
   ]
  },
  {
   "cell_type": "code",
   "execution_count": 8,
   "metadata": {},
   "outputs": [],
   "source": [
    "ChG_df = [\"C\",\"G\"]+ChG_df.astype(str)\n",
    "ChCh_df = [\"C\",\"C\"]+ChCh_df.astype(str)\n",
    "GG_df = [\"G\",\"G\"]+GG_df.astype(str)\n",
    "\n",
    "ChCh_df[\"sorted_edge\"] = ChCh_df.apply(lambda row: sorted(row), axis=1)\n",
    "GG_df[\"sorted_edge\"] = GG_df.apply(lambda row: sorted(row), axis=1)\n",
    "\n",
    "\n",
    "ChG_df.drop_duplicates(inplace=True)\n",
    "ChCh_df = ChCh_df.drop_duplicates(subset=\"sorted_edge\").drop(columns=\"sorted_edge\")\n",
    "GG_df = GG_df.drop_duplicates(subset=\"sorted_edge\").drop(columns=\"sorted_edge\")"
   ]
  },
  {
   "cell_type": "code",
   "execution_count": 9,
   "metadata": {},
   "outputs": [],
   "source": [
    "ChG_df.to_csv(dti_folder+\"ChG/ChG_final_df.csv\")\n",
    "ChCh_df.to_csv(dti_folder+\"ChCh/ChCh_final_df.csv\")\n",
    "GG_df.to_csv(dti_folder+\"GG/GG_final_df.csv\")"
   ]
  },
  {
   "cell_type": "code",
   "execution_count": 10,
   "metadata": {},
   "outputs": [],
   "source": [
    "ChG_df.rename(columns={\"DrugID (PubChem CID)\":\"src_id\", \"GeneID (NCBI)\": \"trgt_id\" }, inplace=True)\n",
    "\n",
    "ChCh_df.rename(columns={\"CID1\": \"src_id\", \"CID2\":\"trgt_id\"}, inplace=True)\n",
    "\n",
    "GG_df.rename(columns={\"src\":\"src_id\", \"trgt\":\"trgt_id\"}, inplace=True)"
   ]
  },
  {
   "cell_type": "code",
   "execution_count": 11,
   "metadata": {},
   "outputs": [],
   "source": [
    "ChG_df[\"edge_type\"] = \"Chem-Gene\"\n",
    "ChG_df[\"src_node_type\"] = \"Chem\"\n",
    "ChG_df[\"trgt_node_type\"] = \"Gene\""
   ]
  },
  {
   "cell_type": "code",
   "execution_count": 13,
   "metadata": {},
   "outputs": [],
   "source": [
    "ChCh_df[\"edge_type\"] = \"Chem-Chem\"\n",
    "ChCh_df[\"src_node_type\"] = \"Chem\"\n",
    "ChCh_df[\"trgt_node_type\"] = \"Chem\"\n",
    "\n"
   ]
  },
  {
   "cell_type": "code",
   "execution_count": 14,
   "metadata": {},
   "outputs": [],
   "source": [
    "GG_df[\"edge_type\"] = \"Gene-Gene\"\n",
    "GG_df[\"src_node_type\"] = \"Gene\"\n",
    "GG_df[\"trgt_node_type\"] = \"Gene\""
   ]
  },
  {
   "cell_type": "code",
   "execution_count": 15,
   "metadata": {},
   "outputs": [
    {
     "data": {
      "text/html": [
       "<div>\n",
       "<style scoped>\n",
       "    .dataframe tbody tr th:only-of-type {\n",
       "        vertical-align: middle;\n",
       "    }\n",
       "\n",
       "    .dataframe tbody tr th {\n",
       "        vertical-align: top;\n",
       "    }\n",
       "\n",
       "    .dataframe thead th {\n",
       "        text-align: right;\n",
       "    }\n",
       "</style>\n",
       "<table border=\"1\" class=\"dataframe\">\n",
       "  <thead>\n",
       "    <tr style=\"text-align: right;\">\n",
       "      <th></th>\n",
       "      <th>src_id</th>\n",
       "      <th>trgt_id</th>\n",
       "      <th>edge_type</th>\n",
       "      <th>src_node_type</th>\n",
       "      <th>trgt_node_type</th>\n",
       "    </tr>\n",
       "  </thead>\n",
       "  <tbody>\n",
       "    <tr>\n",
       "      <th>0</th>\n",
       "      <td>G1394</td>\n",
       "      <td>G1395</td>\n",
       "      <td>Gene-Gene</td>\n",
       "      <td>Gene</td>\n",
       "      <td>Gene</td>\n",
       "    </tr>\n",
       "    <tr>\n",
       "      <th>1</th>\n",
       "      <td>G1394</td>\n",
       "      <td>G266977</td>\n",
       "      <td>Gene-Gene</td>\n",
       "      <td>Gene</td>\n",
       "      <td>Gene</td>\n",
       "    </tr>\n",
       "    <tr>\n",
       "      <th>2</th>\n",
       "      <td>G1394</td>\n",
       "      <td>G2692</td>\n",
       "      <td>Gene-Gene</td>\n",
       "      <td>Gene</td>\n",
       "      <td>Gene</td>\n",
       "    </tr>\n",
       "    <tr>\n",
       "      <th>3</th>\n",
       "      <td>G1394</td>\n",
       "      <td>G2696</td>\n",
       "      <td>Gene-Gene</td>\n",
       "      <td>Gene</td>\n",
       "      <td>Gene</td>\n",
       "    </tr>\n",
       "    <tr>\n",
       "      <th>4</th>\n",
       "      <td>G1394</td>\n",
       "      <td>G2740</td>\n",
       "      <td>Gene-Gene</td>\n",
       "      <td>Gene</td>\n",
       "      <td>Gene</td>\n",
       "    </tr>\n",
       "    <tr>\n",
       "      <th>...</th>\n",
       "      <td>...</td>\n",
       "      <td>...</td>\n",
       "      <td>...</td>\n",
       "      <td>...</td>\n",
       "      <td>...</td>\n",
       "    </tr>\n",
       "    <tr>\n",
       "      <th>12644</th>\n",
       "      <td>G5649</td>\n",
       "      <td>G7143</td>\n",
       "      <td>Gene-Gene</td>\n",
       "      <td>Gene</td>\n",
       "      <td>Gene</td>\n",
       "    </tr>\n",
       "    <tr>\n",
       "      <th>12645</th>\n",
       "      <td>G10417</td>\n",
       "      <td>G84870</td>\n",
       "      <td>Gene-Gene</td>\n",
       "      <td>Gene</td>\n",
       "      <td>Gene</td>\n",
       "    </tr>\n",
       "    <tr>\n",
       "      <th>12646</th>\n",
       "      <td>G270</td>\n",
       "      <td>G271</td>\n",
       "      <td>Gene-Gene</td>\n",
       "      <td>Gene</td>\n",
       "      <td>Gene</td>\n",
       "    </tr>\n",
       "    <tr>\n",
       "      <th>12647</th>\n",
       "      <td>G270</td>\n",
       "      <td>G272</td>\n",
       "      <td>Gene-Gene</td>\n",
       "      <td>Gene</td>\n",
       "      <td>Gene</td>\n",
       "    </tr>\n",
       "    <tr>\n",
       "      <th>12648</th>\n",
       "      <td>G271</td>\n",
       "      <td>G272</td>\n",
       "      <td>Gene-Gene</td>\n",
       "      <td>Gene</td>\n",
       "      <td>Gene</td>\n",
       "    </tr>\n",
       "  </tbody>\n",
       "</table>\n",
       "<p>12649 rows × 5 columns</p>\n",
       "</div>"
      ],
      "text/plain": [
       "       src_id  trgt_id  edge_type src_node_type trgt_node_type\n",
       "0       G1394    G1395  Gene-Gene          Gene           Gene\n",
       "1       G1394  G266977  Gene-Gene          Gene           Gene\n",
       "2       G1394    G2692  Gene-Gene          Gene           Gene\n",
       "3       G1394    G2696  Gene-Gene          Gene           Gene\n",
       "4       G1394    G2740  Gene-Gene          Gene           Gene\n",
       "...       ...      ...        ...           ...            ...\n",
       "12644   G5649    G7143  Gene-Gene          Gene           Gene\n",
       "12645  G10417   G84870  Gene-Gene          Gene           Gene\n",
       "12646    G270     G271  Gene-Gene          Gene           Gene\n",
       "12647    G270     G272  Gene-Gene          Gene           Gene\n",
       "12648    G271     G272  Gene-Gene          Gene           Gene\n",
       "\n",
       "[12649 rows x 5 columns]"
      ]
     },
     "execution_count": 15,
     "metadata": {},
     "output_type": "execute_result"
    }
   ],
   "source": [
    "GG_df"
   ]
  },
  {
   "cell_type": "code",
   "execution_count": 16,
   "metadata": {},
   "outputs": [],
   "source": [
    "edge_df = pd.concat([ChG_df, ChCh_df, GG_df])"
   ]
  },
  {
   "cell_type": "code",
   "execution_count": 17,
   "metadata": {},
   "outputs": [],
   "source": [
    "import networkx as nx"
   ]
  },
  {
   "cell_type": "code",
   "execution_count": 18,
   "metadata": {},
   "outputs": [],
   "source": [
    "G = nx.from_pandas_edgelist(edge_df, source=\"src_id\", target=\"trgt_id\",edge_attr=\"edge_type\")"
   ]
  },
  {
   "cell_type": "code",
   "execution_count": 19,
   "metadata": {},
   "outputs": [],
   "source": [
    "def get_edgetype_subgraph(G: nx.Graph, edge_type: str) -> nx.Graph:\n",
    "    rel_edges = [(u,v) for (u,v,r_dict) in G.edges.data() if r_dict[\"edge_type\"]==edge_type]\n",
    "    rel_subgraph = G.edge_subgraph(rel_edges).copy()\n",
    "    return rel_subgraph"
   ]
  },
  {
   "cell_type": "code",
   "execution_count": 20,
   "metadata": {},
   "outputs": [],
   "source": [
    "ChG_subgraph = get_edgetype_subgraph(G, \"Chem-Gene\")\n",
    "ChCh_subgraph = get_edgetype_subgraph(G, \"Chem-Chem\")\n",
    "GG_subgraph = get_edgetype_subgraph(G, \"Gene-Gene\")"
   ]
  },
  {
   "cell_type": "code",
   "execution_count": 21,
   "metadata": {},
   "outputs": [],
   "source": [
    "def node_deg_info(node):\n",
    "    ChG_deg, ChCh_deg, GG_deg = 0,0,0\n",
    "    if node in ChG_subgraph.nodes():\n",
    "        ChG_deg = ChG_subgraph.degree(node)\n",
    "    if node.startswith(\"C\") and node in ChCh_subgraph.nodes():\n",
    "        ChCh_deg = ChCh_subgraph.degree(node)\n",
    "    elif node in GG_subgraph.nodes():\n",
    "        GG_deg = GG_subgraph.degree(node)\n",
    "    \n",
    "    return pd.Series([ChG_deg, ChCh_deg, GG_deg])"
   ]
  },
  {
   "cell_type": "code",
   "execution_count": 22,
   "metadata": {},
   "outputs": [],
   "source": [
    "node_df = pd.DataFrame()\n",
    "node_df[\"node_id\"] = list(G.nodes())\n",
    "node_df[[\"ChG_deg\",\"ChCh_deg\", \"GG_deg\"]] = node_df[\"node_id\"].apply(node_deg_info)\n",
    "node_df[\"total_deg\"] = node_df[[\"ChG_deg\",\"ChCh_deg\", \"GG_deg\"]].sum(axis=1)"
   ]
  },
  {
   "cell_type": "code",
   "execution_count": 23,
   "metadata": {},
   "outputs": [],
   "source": [
    "edge_df.to_csv(dti_folder+\"edge_df.csv\")\n",
    "node_df.to_csv(dti_folder+\"node_df.csv\")"
   ]
  },
  {
   "cell_type": "code",
   "execution_count": 24,
   "metadata": {},
   "outputs": [],
   "source": [
    "import pickle"
   ]
  },
  {
   "cell_type": "code",
   "execution_count": 25,
   "metadata": {},
   "outputs": [],
   "source": [
    "pickle.dump(G, open(dti_folder+'dti_graph.pickle', 'wb'))"
   ]
  }
 ],
 "metadata": {
  "kernelspec": {
   "display_name": "base",
   "language": "python",
   "name": "python3"
  },
  "language_info": {
   "codemirror_mode": {
    "name": "ipython",
    "version": 3
   },
   "file_extension": ".py",
   "mimetype": "text/x-python",
   "name": "python",
   "nbconvert_exporter": "python",
   "pygments_lexer": "ipython3",
   "version": "3.10.13"
  }
 },
 "nbformat": 4,
 "nbformat_minor": 2
}
